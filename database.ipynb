﻿{
 "cells": [
  {
   "cell_type": "code",
   "id": "initial_id",
   "metadata": {
    "collapsed": true,
    "ExecuteTime": {
     "end_time": "2024-06-02T13:35:00.879970Z",
     "start_time": "2024-06-02T13:35:00.876901Z"
    }
   },
   "source": [
    "import os\n",
    "from os import path\n",
    "import sqlite3\n",
    "\n",
    "DB = path.join(os.getcwd(), 'collection.sqlite')"
   ],
   "outputs": [],
   "execution_count": 1
  },
  {
   "metadata": {
    "ExecuteTime": {
     "end_time": "2024-06-02T13:35:21.210563Z",
     "start_time": "2024-06-02T13:35:21.205370Z"
    }
   },
   "cell_type": "code",
   "source": [
    "conn = sqlite3.connect(DB)\n",
    "cursor = conn.cursor()"
   ],
   "id": "56667d945cdbe028",
   "outputs": [],
   "execution_count": 2
  },
  {
   "metadata": {
    "ExecuteTime": {
     "end_time": "2024-06-02T13:42:42.413823Z",
     "start_time": "2024-06-02T13:42:42.410920Z"
    }
   },
   "cell_type": "code",
   "source": [
    "cursor.execute(\"SELECT name FROM sqlite_master WHERE type='table'\")\n",
    "tables = list()\n",
    "for i, t in enumerate(cursor.fetchall()):\n",
    "    tables.append(t[0])\n",
    "    print(i, t)"
   ],
   "id": "aa6e176bdabd7373",
   "outputs": [
    {
     "name": "stdout",
     "output_type": "stream",
     "text": [
      "0 ('col',)\n",
      "1 ('notes',)\n",
      "2 ('cards',)\n",
      "3 ('revlog',)\n",
      "4 ('deck_config',)\n",
      "5 ('config',)\n",
      "6 ('fields',)\n",
      "7 ('templates',)\n",
      "8 ('notetypes',)\n",
      "9 ('decks',)\n",
      "10 ('sqlite_stat1',)\n",
      "11 ('sqlite_stat4',)\n",
      "12 ('tags',)\n",
      "13 ('graves',)\n"
     ]
    }
   ],
   "execution_count": 15
  },
  {
   "metadata": {
    "ExecuteTime": {
     "end_time": "2024-06-02T13:43:06.554954Z",
     "start_time": "2024-06-02T13:43:06.550735Z"
    }
   },
   "cell_type": "code",
   "source": [
    "tables = ['notes', 'cards', 'deck_config', 'config', 'fields', 'templates', 'notetypes', 'decks']\n",
    "\n",
    "for t in tables:\n",
    "    print('Table:', t)\n",
    "    cursor.execute(f\"SELECT * FROM {t};\")\n",
    "    names = [description[0] for description in cursor.description]\n",
    "    for i, n in enumerate(names):\n",
    "        print('\\t', i, n)\n",
    "    print('-'*100, '\\n')"
   ],
   "id": "c3613dfde024fbbc",
   "outputs": [
    {
     "name": "stdout",
     "output_type": "stream",
     "text": [
      "Table: notes\n",
      "\t 0 id\n",
      "\t 1 guid\n",
      "\t 2 mid\n",
      "\t 3 mod\n",
      "\t 4 usn\n",
      "\t 5 tags\n",
      "\t 6 flds\n",
      "\t 7 sfld\n",
      "\t 8 csum\n",
      "\t 9 flags\n",
      "\t 10 data\n",
      "---------------------------------------------------------------------------------------------------- \n",
      "\n",
      "Table: cards\n",
      "\t 0 id\n",
      "\t 1 nid\n",
      "\t 2 did\n",
      "\t 3 ord\n",
      "\t 4 mod\n",
      "\t 5 usn\n",
      "\t 6 type\n",
      "\t 7 queue\n",
      "\t 8 due\n",
      "\t 9 ivl\n",
      "\t 10 factor\n",
      "\t 11 reps\n",
      "\t 12 lapses\n",
      "\t 13 left\n",
      "\t 14 odue\n",
      "\t 15 odid\n",
      "\t 16 flags\n",
      "\t 17 data\n",
      "---------------------------------------------------------------------------------------------------- \n",
      "\n",
      "Table: deck_config\n",
      "\t 0 id\n",
      "\t 1 name\n",
      "\t 2 mtime_secs\n",
      "\t 3 usn\n",
      "\t 4 config\n",
      "---------------------------------------------------------------------------------------------------- \n",
      "\n",
      "Table: config\n",
      "\t 0 KEY\n",
      "\t 1 usn\n",
      "\t 2 mtime_secs\n",
      "\t 3 val\n",
      "---------------------------------------------------------------------------------------------------- \n",
      "\n",
      "Table: fields\n",
      "\t 0 ntid\n",
      "\t 1 ord\n",
      "\t 2 name\n",
      "\t 3 config\n",
      "---------------------------------------------------------------------------------------------------- \n",
      "\n",
      "Table: templates\n",
      "\t 0 ntid\n",
      "\t 1 ord\n",
      "\t 2 name\n",
      "\t 3 mtime_secs\n",
      "\t 4 usn\n",
      "\t 5 config\n",
      "---------------------------------------------------------------------------------------------------- \n",
      "\n",
      "Table: notetypes\n",
      "\t 0 id\n",
      "\t 1 name\n",
      "\t 2 mtime_secs\n",
      "\t 3 usn\n",
      "\t 4 config\n",
      "---------------------------------------------------------------------------------------------------- \n",
      "\n",
      "Table: decks\n",
      "\t 0 id\n",
      "\t 1 name\n",
      "\t 2 mtime_secs\n",
      "\t 3 usn\n",
      "\t 4 common\n",
      "\t 5 kind\n",
      "---------------------------------------------------------------------------------------------------- \n",
      "\n"
     ]
    }
   ],
   "execution_count": 18
  },
  {
   "metadata": {
    "ExecuteTime": {
     "end_time": "2024-06-02T13:47:55.163315Z",
     "start_time": "2024-06-02T13:47:55.160264Z"
    }
   },
   "cell_type": "code",
   "source": [
    "def print_table(table_name):\n",
    "    cursor.execute(f\"SELECT * FROM {table_name};\")\n",
    "    _col_names = [_description[0] for _description in cursor.description]\n",
    "    print(_col_names)\n",
    "    for _row in cursor.fetchall():\n",
    "        print(_row)"
   ],
   "id": "f8f4bef11419119c",
   "outputs": [],
   "execution_count": 26
  },
  {
   "metadata": {
    "ExecuteTime": {
     "end_time": "2024-06-02T13:47:55.376327Z",
     "start_time": "2024-06-02T13:47:55.373309Z"
    }
   },
   "cell_type": "code",
   "source": "print_table('decks')",
   "id": "86a88e9c7a4b10cc",
   "outputs": [
    {
     "name": "stdout",
     "output_type": "stream",
     "text": [
      "['id', 'name', 'mtime_secs', 'usn', 'common', 'kind']\n",
      "(1, 'Default', 1706565433, 0, b'\\x08\\x01\\x10\\x01', b'\\n\\x02\\x08\\x01')\n",
      "(1706565461365, 'Biologia', 1717161812, 20, b'\\x08\\x01\\x10\\x01\\x18| \\x01(\\x038\\xa8\\x87\\x0b', b'\\n\\x02\\x08\\x01')\n",
      "(1711456713745, 'Quimica', 1712752997, 13, b'\\x08\\x01\\x10\\x01\\x18I(\\x068\\x95\\xef\\r', b'\\n\\x02\\x08\\x01')\n",
      "(1711557153250, 'Geografia', 1711557153, 7, b'\\x08\\x01\\x10\\x01', b'\\n\\x02\\x08\\x01')\n",
      "(1712774717992, 'Portugues', 1714049059, 15, b'\\x08\\x01\\x10\\x01\\x18X \\x038\\xd9\\xda\\t', b'\\n\\x02\\x08\\x01')\n",
      "(1714065941162, 'Física', 1714065941, 15, b'\\x08\\x01\\x10\\x01', b'\\n\\x02\\x08\\x01')\n",
      "(1715256226361, 'Periodic table memory pegs', 1715341744, 18, b'\\x18g \\x14(\\x058\\xfc\\xccM', b'\\nj\\x08\\x01\"fPlease see the <a href=\\'https://ankiweb.net/shared/info/490209917\\'>shared deck page</a> for more info.')\n"
     ]
    }
   ],
   "execution_count": 27
  },
  {
   "metadata": {
    "ExecuteTime": {
     "end_time": "2024-06-02T13:48:37.637470Z",
     "start_time": "2024-06-02T13:48:37.634440Z"
    }
   },
   "cell_type": "code",
   "source": "print_table('fields')",
   "id": "c2922b993647a598",
   "outputs": [
    {
     "name": "stdout",
     "output_type": "stream",
     "text": [
      "['ntid', 'ord', 'name', 'config']\n",
      "(1607392319, 0, 'Question', b'\\x1a\\x0fLiberation Sans \\x14\\xfa\\x0f\\x0c{\"media\":[]}')\n",
      "(1607392319, 1, 'Answer', b'\\x1a\\x0fLiberation Sans \\x14\\xfa\\x0f\\x0c{\"media\":[]}')\n",
      "(1484938894779, 0, 'Picture', b'\\x1a\\x0fLiberation Sans \\x14\\xfa\\x0f\\x0c{\"media\":[]}')\n",
      "(1484938894779, 1, 'Name', b'\\x1a\\x0fLiberation Sans \\x14\\xfa\\x0f\\x0c{\"media\":[]}')\n",
      "(1484938894779, 2, 'Number', b'\\x1a\\x0fLiberation Sans \\x14\\xfa\\x0f\\x0c{\"media\":[]}')\n",
      "(1484938894779, 3, 'Symbol', b'\\x1a\\x0fLiberation Sans \\x14\\xfa\\x0f\\x0c{\"media\":[]}')\n",
      "(1484938894779, 4, 'Memory sentence', b'\\x1a\\x0fLiberation Sans \\x14\\xfa\\x0f\\x0c{\"media\":[]}')\n",
      "(1484938894779, 5, 'SpecialLocation', b'\\x1a\\x0fLiberation Sans \\x14\\xfa\\x0f\\x0c{\"media\":[]}')\n",
      "(1706449078692, 0, 'Front', b'\\x1a\\x05Arial \\x14H\\xd6\\x8b\\xb3\\xe0\\xe7\\x9b\\xf2\\xcb\\x8e\\x01')\n",
      "(1706449078692, 1, 'Back', b'\\x1a\\x05Arial \\x14H\\xe1\\x9b\\x8f\\xe8\\x95\\xf7\\xf2\\xc7\\xb7\\x01')\n",
      "(1706449078693, 0, 'Front', b'\\x1a\\x05Arial \\x14H\\x97\\xdb\\xd7\\xf4\\xa6\\xc6\\x9c\\xe2\\xe0\\x01')\n",
      "(1706449078693, 1, 'Back', b'\\x1a\\x05Arial \\x14H\\xaf\\x96\\xba\\xdb\\xa1\\xca\\x9d\\x89\\x12')\n",
      "(1706449078694, 0, 'Front', b'\\x1a\\x05Arial \\x14H\\xd5\\xb0\\xe9\\xd6\\xa0\\xe9\\xde\\x84Z')\n",
      "(1706449078694, 1, 'Back', b'\\x1a\\x05Arial \\x14H\\xe6\\x9a\\xe9\\xb4\\xab\\xa0\\xef\\xcd\\xc3\\x01')\n",
      "(1706449078694, 2, 'Add Reverse', b'\\x1a\\x05Arial \\x14H\\x89\\xfc\\xa1\\x8a\\xc2\\x9d\\xdb\\xabb')\n",
      "(1706449078695, 0, 'Front', b'\\x1a\\x05Arial \\x14H\\xa4\\xec\\x8a\\xcf\\xb4\\xf1\\xdb\\x84\\xf1\\x01')\n",
      "(1706449078695, 1, 'Back', b'\\x1a\\x05Arial \\x14H\\x8f\\x97\\x84\\x91\\xef\\xf0\\xda\\x904')\n",
      "(1706449078696, 0, 'Text', b'\\x1a\\x05Arial \\x14H\\x9b\\xe7\\xf4\\xca\\xbd\\xb1\\x80\\xa3jP\\x00X\\x01')\n",
      "(1706449078696, 1, 'Back Extra', b'\\x1a\\x05Arial \\x14H\\xe7\\xc3\\xc7\\xb8\\xc4\\xde\\x9a\\x8d\\xaf\\x01P\\x01')\n",
      "(1706449078697, 0, 'Occlusion', b'\\x1a\\x05Arial \\x14H\\xb6\\xdf\\xd8\\xa1\\x99\\xde\\xa8\\xf9kP\\x00X\\x01')\n",
      "(1706449078697, 1, 'Image', b'\\x1a\\x05Arial \\x14H\\x9d\\xcb\\xff\\xd9\\xa3\\x84\\xa8\\xe8/P\\x01X\\x01')\n",
      "(1706449078697, 2, 'Header', b'\\x1a\\x05Arial \\x14H\\xd2\\x90\\xb2\\xe6\\xb5\\xea\\x83\\x99ZP\\x02X\\x01')\n",
      "(1706449078697, 3, 'Back Extra', b'\\x1a\\x05Arial \\x14H\\xa3\\xf1\\xac\\xa6\\xcc\\xf7\\xf3\\xd4\\xd7\\x01P\\x03X\\x01')\n",
      "(1706449078697, 4, 'Comments', b'\\x1a\\x05Arial \\x14H\\xc1\\xf9\\x83\\xc3\\xf3\\x94\\xf9\\xa8\\xd2\\x01P\\x04')\n"
     ]
    }
   ],
   "execution_count": 30
  },
  {
   "metadata": {},
   "cell_type": "code",
   "outputs": [],
   "execution_count": null,
   "source": "",
   "id": "a786d177090cfa1f"
  }
 ],
 "metadata": {
  "kernelspec": {
   "display_name": "Python 3",
   "language": "python",
   "name": "python3"
  },
  "language_info": {
   "codemirror_mode": {
    "name": "ipython",
    "version": 2
   },
   "file_extension": ".py",
   "mimetype": "text/x-python",
   "name": "python",
   "nbconvert_exporter": "python",
   "pygments_lexer": "ipython2",
   "version": "2.7.6"
  }
 },
 "nbformat": 4,
 "nbformat_minor": 5
}
