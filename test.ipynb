﻿{
 "cells": [
  {
   "cell_type": "code",
   "id": "initial_id",
   "metadata": {
    "collapsed": true,
    "ExecuteTime": {
     "end_time": "2024-06-03T14:18:27.890958Z",
     "start_time": "2024-06-03T14:18:27.885284Z"
    }
   },
   "source": [
    "import re\n",
    "import os\n",
    "\n",
    "from difflib import SequenceMatcher\n",
    "from os import path"
   ],
   "outputs": [],
   "execution_count": 1
  },
  {
   "metadata": {
    "ExecuteTime": {
     "end_time": "2024-06-03T14:18:28.011243Z",
     "start_time": "2024-06-03T14:18:28.005237Z"
    }
   },
   "cell_type": "code",
   "source": [
    "DB = 'C:\\\\mine\\\\Journey'\n",
    "\n",
    "with open(path.join(DB, 'Biologia celular.md'), 'r', encoding='utf-8') as f:\n",
    "    data = f.read()"
   ],
   "id": "b1f5deb31298bb5d",
   "outputs": [],
   "execution_count": 2
  },
  {
   "metadata": {
    "ExecuteTime": {
     "end_time": "2024-06-03T14:18:29.264026Z",
     "start_time": "2024-06-03T14:18:29.260260Z"
    }
   },
   "cell_type": "code",
   "source": [
    "QUESTIONS_HEADING = 'Anki Questions'\n",
    "\n",
    "# Target: #anki/DECK/TAG[/SUB_TAGS]\n",
    "# Group: DECK e TAG[/SUB_TAGS], used to determine the Anki deck and Note tags\n",
    "RE_ANKI_TAG = re.compile(r'(#anki)/(\\S+?)/(\\S.+)')\n",
    "# RE_QUESTIONS_HEAD = re.compile(r'(#)+? +?' + QUESTIONS_HEADING + r' *?\\n')\n",
    "# Target: 1. QUESTION TEXT\n",
    "# Group: returns the text of the question\n",
    "RE_QUESTIONS_BODY = re.compile(r'\\d+\\. (.+)')\n",
    "# Target: [[ANY TEXT BETWEEN TWO BRACKETS]]\n",
    "# Group: text in between, may contain the optional #heading link or |link renaming tokens\n",
    "RE_LINKS = re.compile(r'\\[\\[(.*?)]]')\n",
    "\n",
    "# [[link#header|ans]] groups: link, header, ans\n",
    "# RE_LINKS = re.compile(r'\\[\\[([a-zA-Z0-9 ]+)#?([a-zA-Z0-9 ]*?)\\|?(ans)*?]]')\n",
    "\n",
    "# Target: #[#...#] [space...space]HEADING[space..space]\\n\n",
    "# Group: hashtags, used to figure out the heading level\n",
    "def regex_heading(heading):\n",
    "    return re.compile(r'(#)+? +?' + heading + r' *?\\n')\n"
   ],
   "id": "99a9b29cdca88f35",
   "outputs": [],
   "execution_count": 3
  },
  {
   "metadata": {
    "ExecuteTime": {
     "end_time": "2024-06-03T14:18:31.463482Z",
     "start_time": "2024-06-03T14:18:31.455300Z"
    }
   },
   "cell_type": "code",
   "source": [
    "anki_tag = RE_ANKI_TAG.search(data)\n",
    "anki_tag, anki_tag.groups()"
   ],
   "id": "69edee256626880f",
   "outputs": [
    {
     "data": {
      "text/plain": [
       "(<re.Match object; span=(16, 47), match='#anki/biologia/biologia_celular'>,\n",
       " ('#anki', 'biologia', 'biologia_celular'))"
      ]
     },
     "execution_count": 4,
     "metadata": {},
     "output_type": "execute_result"
    }
   ],
   "execution_count": 4
  },
  {
   "metadata": {
    "ExecuteTime": {
     "end_time": "2024-06-03T14:11:22.058788Z",
     "start_time": "2024-06-03T14:11:22.054223Z"
    }
   },
   "cell_type": "code",
   "source": [
    "def _find_heading(heading, exit_on_first=False):\n",
    "    text_before, text = data.split(regex_heading(heading), maxsplit=1)\n",
    "\n",
    "    heading_level = 1\n",
    "    for c in text_before[::-1]:\n",
    "        if c == '#':\n",
    "            heading_level += 1\n",
    "        else:\n",
    "            break\n",
    "\n",
    "    heading_text = ''\n",
    "\n",
    "    for line in text.split('\\n'):\n",
    "        h = re.match(r'(#+?) ', line)\n",
    "        if h is not None:\n",
    "            if exit_on_first:\n",
    "                break  # first heading found\n",
    "            elif len(h.group(1)) <= heading_level:\n",
    "                break  # found a higher level heading\n",
    "            # child heading, proceed\n",
    "        heading_text += line + '\\n'\n",
    "\n",
    "    return heading_text.strip('\\n').strip('---')\n",
    "\n",
    "questions = RE_QUESTIONS_BODY.findall(_find_heading(QUESTIONS_HEADING))\n",
    "questions"
   ],
   "id": "66a64b2d0b0a5ce8",
   "outputs": [
    {
     "data": {
      "text/plain": [
       "['O que é [[teoria celular]]?',\n",
       " 'Quais organelas são compartilhadas entre as [[células eucarióticas]] e [[células procarióticas]]? [[Biologia celular#organelas compartilhadas|ans]]',\n",
       " 'O que é [[teoria endossimbiôntica]]?',\n",
       " 'Descreva a função e onde encontra-se o [[citoplasma]].']"
      ]
     },
     "execution_count": 15,
     "metadata": {},
     "output_type": "execute_result"
    }
   ],
   "execution_count": 15
  },
  {
   "metadata": {
    "ExecuteTime": {
     "end_time": "2024-06-03T14:19:11.328696Z",
     "start_time": "2024-06-03T14:19:11.324896Z"
    }
   },
   "cell_type": "code",
   "source": "regex_heading(QUESTIONS_HEADING).split(data)",
   "id": "ced9459c5967b853",
   "outputs": [
    {
     "data": {
      "text/plain": [
       "['#hub/bio/celula\\n#anki/biologia/biologia_celular\\n\\nLivro 1, Frente 1, Capítulo 5\\n',\n",
       " '#',\n",
       " '---\\n2. O que é [[teoria celular]]?\\n3. Quais organelas são compartilhadas entre as [[células eucarióticas]] e [[células procarióticas]]? [[Biologia celular#organelas compartilhadas|ans]]\\n4. O que é [[teoria endossimbiôntica]]?\\n5. Descreva a função e onde encontra-se o [[citoplasma]].\\n\\n# Answers\\n---\\n### organelas compartilhadas\\nCitoplasma, ribossomos, membrana plasmática e DNA ']"
      ]
     },
     "execution_count": 8,
     "metadata": {},
     "output_type": "execute_result"
    }
   ],
   "execution_count": 8
  },
  {
   "metadata": {},
   "cell_type": "code",
   "outputs": [],
   "execution_count": null,
   "source": "",
   "id": "d8db261c156fe065"
  },
  {
   "metadata": {},
   "cell_type": "code",
   "outputs": [],
   "execution_count": null,
   "source": "",
   "id": "40b81dd0d97e6727"
  },
  {
   "metadata": {},
   "cell_type": "code",
   "outputs": [],
   "execution_count": null,
   "source": "",
   "id": "596f0bfe06b1b5e0"
  },
  {
   "metadata": {},
   "cell_type": "code",
   "outputs": [],
   "execution_count": null,
   "source": "",
   "id": "65f86bd0f04e98b8"
  },
  {
   "metadata": {},
   "cell_type": "code",
   "outputs": [],
   "execution_count": null,
   "source": "",
   "id": "cd61fff01632bed"
  },
  {
   "metadata": {},
   "cell_type": "code",
   "outputs": [],
   "execution_count": null,
   "source": "",
   "id": "644f9b156878c949"
  },
  {
   "metadata": {},
   "cell_type": "code",
   "outputs": [],
   "execution_count": null,
   "source": "",
   "id": "335cc0978c8cb37"
  },
  {
   "metadata": {},
   "cell_type": "code",
   "outputs": [],
   "execution_count": null,
   "source": "",
   "id": "4c1c7d23bad2fb6a"
  },
  {
   "metadata": {},
   "cell_type": "code",
   "outputs": [],
   "execution_count": null,
   "source": "",
   "id": "af4f42b7e950d973"
  },
  {
   "metadata": {},
   "cell_type": "code",
   "outputs": [],
   "execution_count": null,
   "source": "",
   "id": "d8b16636f63a10f1"
  },
  {
   "metadata": {},
   "cell_type": "code",
   "outputs": [],
   "execution_count": null,
   "source": "",
   "id": "b0edc26fefb93e"
  },
  {
   "metadata": {},
   "cell_type": "code",
   "outputs": [],
   "execution_count": null,
   "source": "",
   "id": "167071a7d78bb8fa"
  },
  {
   "metadata": {},
   "cell_type": "code",
   "outputs": [],
   "execution_count": null,
   "source": "",
   "id": "c653bd63a475518c"
  },
  {
   "metadata": {},
   "cell_type": "code",
   "outputs": [],
   "execution_count": null,
   "source": "",
   "id": "21532fe83627fbd4"
  },
  {
   "metadata": {},
   "cell_type": "code",
   "outputs": [],
   "execution_count": null,
   "source": "",
   "id": "29a2fa16b7894a73"
  },
  {
   "metadata": {},
   "cell_type": "code",
   "outputs": [],
   "execution_count": null,
   "source": "",
   "id": "bef1b9764c901e13"
  },
  {
   "metadata": {
    "ExecuteTime": {
     "end_time": "2024-05-31T21:37:34.020664Z",
     "start_time": "2024-05-31T21:37:34.018152Z"
    }
   },
   "cell_type": "code",
   "source": [
    "my_model = genanki.Model(\n",
    "  1607392319,\n",
    "  'Simple Model',\n",
    "  fields=[\n",
    "    {'name': 'Question'},\n",
    "    {'name': 'Answer'},\n",
    "  ],\n",
    "  templates=[\n",
    "    {\n",
    "      'name': 'Card 1',\n",
    "      'qfmt': '{{Question}}',\n",
    "      'afmt': '{{FrontSide}}<hr id=\"answer\">{{Answer}}',\n",
    "    },\n",
    "  ])"
   ],
   "id": "5b716adc424653c7",
   "outputs": [],
   "execution_count": 37
  },
  {
   "metadata": {
    "ExecuteTime": {
     "end_time": "2024-05-31T21:38:20.570051Z",
     "start_time": "2024-05-31T21:38:20.567657Z"
    }
   },
   "cell_type": "code",
   "source": [
    "my_note = genanki.Note(\n",
    "    model=my_model,\n",
    "    fields=['Testing question', 'Correct answer']\n",
    ")"
   ],
   "id": "122675c109d8f801",
   "outputs": [],
   "execution_count": 39
  },
  {
   "metadata": {
    "ExecuteTime": {
     "end_time": "2024-05-31T21:39:48.648185Z",
     "start_time": "2024-05-31T21:39:48.645875Z"
    }
   },
   "cell_type": "code",
   "source": [
    "bio_deck = genanki.Deck(2059400110, 'Biologia')\n",
    "bio_deck.add_note(my_note)"
   ],
   "id": "2a83475d9c10a0e6",
   "outputs": [],
   "execution_count": 40
  },
  {
   "metadata": {
    "ExecuteTime": {
     "end_time": "2024-05-31T21:40:56.351075Z",
     "start_time": "2024-05-31T21:40:56.251431Z"
    }
   },
   "cell_type": "code",
   "source": "genanki.Package(bio_deck).write_to_file(path.join('C:\\\\mine\\\\cs\\\\jupyter.apkg'))",
   "id": "e269de5185b4cd5c",
   "outputs": [],
   "execution_count": 41
  },
  {
   "metadata": {},
   "cell_type": "code",
   "outputs": [],
   "execution_count": null,
   "source": "",
   "id": "d2021a8364fe426b"
  }
 ],
 "metadata": {
  "kernelspec": {
   "display_name": "Python 3",
   "language": "python",
   "name": "python3"
  },
  "language_info": {
   "codemirror_mode": {
    "name": "ipython",
    "version": 2
   },
   "file_extension": ".py",
   "mimetype": "text/x-python",
   "name": "python",
   "nbconvert_exporter": "python",
   "pygments_lexer": "ipython2",
   "version": "2.7.6"
  }
 },
 "nbformat": 4,
 "nbformat_minor": 5
}
