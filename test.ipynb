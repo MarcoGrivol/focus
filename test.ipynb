﻿{
 "cells": [
  {
   "metadata": {
    "ExecuteTime": {
     "end_time": "2024-07-04T12:09:12.482987Z",
     "start_time": "2024-07-04T12:09:12.479558Z"
    }
   },
   "cell_type": "code",
   "source": "import re",
   "id": "ef651ff5d0d7504d",
   "outputs": [],
   "execution_count": 6
  },
  {
   "metadata": {},
   "cell_type": "code",
   "outputs": [],
   "execution_count": null,
   "source": "",
   "id": "5ab6652804b0ecd6"
  },
  {
   "metadata": {
    "ExecuteTime": {
     "end_time": "2024-07-04T12:09:07.775703Z",
     "start_time": "2024-07-04T12:09:07.772103Z"
    }
   },
   "cell_type": "code",
   "source": "",
   "id": "26d553609f058081",
   "outputs": [],
   "execution_count": 4
  },
  {
   "metadata": {
    "ExecuteTime": {
     "end_time": "2024-07-04T12:12:41.705250Z",
     "start_time": "2024-07-04T12:12:41.701624Z"
    }
   },
   "cell_type": "code",
   "source": [
    "p = 'C:\\\\mine\\\\vaults\\\\projeto_medicina\\\\química\\\\Capítulo - O átomo.md'\n",
    "with open(p, 'r', encoding='utf-8') as fp:\n",
    "    text = fp.read()"
   ],
   "id": "a2132135bc1ba5b6",
   "outputs": [],
   "execution_count": 10
  },
  {
   "metadata": {
    "ExecuteTime": {
     "end_time": "2024-07-04T12:09:16.059916Z",
     "start_time": "2024-07-04T12:09:16.056542Z"
    }
   },
   "cell_type": "code",
   "source": "re.compile(r'#anki/((?P<deck>\\S+?)/\\S.+)')",
   "id": "c09d5b7f7ce2abb7",
   "outputs": [],
   "execution_count": 7
  },
  {
   "metadata": {
    "ExecuteTime": {
     "end_time": "2024-07-04T12:12:43.177401Z",
     "start_time": "2024-07-04T12:12:43.173292Z"
    }
   },
   "cell_type": "code",
   "source": "re.compile(r'#anki/(.+?)\\s').findall(text)",
   "id": "e2083bf082746755",
   "outputs": [
    {
     "data": {
      "text/plain": [
       "['química/átomo',\n",
       " 'frente-1',\n",
       " 'frente-2',\n",
       " 'química/átomo',\n",
       " 'frente-1',\n",
       " 'frente-2']"
      ]
     },
     "execution_count": 11,
     "metadata": {},
     "output_type": "execute_result"
    }
   ],
   "execution_count": 11
  },
  {
   "metadata": {},
   "cell_type": "code",
   "outputs": [],
   "execution_count": null,
   "source": "",
   "id": "e1de06b833891f9a"
  }
 ],
 "metadata": {
  "kernelspec": {
   "display_name": "Python 3",
   "language": "python",
   "name": "python3"
  },
  "language_info": {
   "codemirror_mode": {
    "name": "ipython",
    "version": 2
   },
   "file_extension": ".py",
   "mimetype": "text/x-python",
   "name": "python",
   "nbconvert_exporter": "python",
   "pygments_lexer": "ipython2",
   "version": "2.7.6"
  }
 },
 "nbformat": 4,
 "nbformat_minor": 5
}
