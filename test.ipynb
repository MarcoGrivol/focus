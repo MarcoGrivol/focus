﻿{
 "cells": [
  {
   "metadata": {
    "ExecuteTime": {
     "end_time": "2024-06-29T19:14:59.789925Z",
     "start_time": "2024-06-29T19:14:59.785335Z"
    }
   },
   "cell_type": "code",
   "source": [
    "import os\n",
    "import re\n",
    "from os import path\n",
    "\n",
    "from crawler import VaultCrawler"
   ],
   "id": "297576da72be17b3",
   "outputs": [],
   "execution_count": 1
  },
  {
   "metadata": {
    "ExecuteTime": {
     "end_time": "2024-06-29T19:15:21.506117Z",
     "start_time": "2024-06-29T19:15:21.487935Z"
    }
   },
   "cell_type": "code",
   "source": [
    "crawler = VaultCrawler('C:\\\\mine\\\\vaults\\\\projeto_medicina')\n",
    "crawler.anki_files"
   ],
   "id": "23e9e8d5a9b984dd",
   "outputs": [
    {
     "data": {
      "text/plain": [
       "['C:\\\\mine\\\\vaults\\\\projeto_medicina\\\\biologia\\\\Capítulo - Biologia celular.md',\n",
       " 'C:\\\\mine\\\\vaults\\\\projeto_medicina\\\\biologia\\\\Capítulo - Biologia termos.md',\n",
       " 'C:\\\\mine\\\\vaults\\\\projeto_medicina\\\\biologia\\\\Capítulo - Ácidos nucleicos.md',\n",
       " 'C:\\\\mine\\\\vaults\\\\projeto_medicina\\\\Hub\\\\Capítulo - Origem da vida.md',\n",
       " 'C:\\\\mine\\\\vaults\\\\projeto_medicina\\\\química\\\\Capítulo - Determinação de fórmulas.md',\n",
       " 'C:\\\\mine\\\\vaults\\\\projeto_medicina\\\\química\\\\Capítulo - Estados físicos.md',\n",
       " 'C:\\\\mine\\\\vaults\\\\projeto_medicina\\\\química\\\\Capítulo - Gases.md',\n",
       " 'C:\\\\mine\\\\vaults\\\\projeto_medicina\\\\química\\\\Capítulo - O átomo.md',\n",
       " 'C:\\\\mine\\\\vaults\\\\projeto_medicina\\\\química\\\\Capítulo - Teoria atômico-molecular.md']"
      ]
     },
     "execution_count": 3,
     "metadata": {},
     "output_type": "execute_result"
    }
   ],
   "execution_count": 3
  },
  {
   "metadata": {
    "ExecuteTime": {
     "end_time": "2024-06-29T20:25:31.363591Z",
     "start_time": "2024-06-29T20:25:31.356791Z"
    }
   },
   "cell_type": "code",
   "source": "crawler.invalid_files",
   "id": "8e455f1a9f2bb2bf",
   "outputs": [
    {
     "data": {
      "text/plain": [
       "{'dupfile.md': 'anki tag is missing or invalid',\n",
       " 'modelos atômicos.md': 'anki tag is missing or invalid',\n",
       " 'água.md': 'anki tag is missing or invalid',\n",
       " 'biologia/abiogênese.md': 'anki tag is missing or invalid',\n",
       " 'biologia/acrossomo.md': 'anki tag is missing or invalid',\n",
       " 'biologia/aldeídos.md': 'anki tag is missing or invalid',\n",
       " 'biologia/aminoácidos.md': 'anki tag is missing or invalid',\n",
       " 'biologia/Antonie van Leeuwenhoek.md': 'anki tag is missing or invalid',\n",
       " 'biologia/Aristóteles.md': 'anki tag is missing or invalid',\n",
       " 'biologia/autofagia.md': 'anki tag is missing or invalid',\n",
       " 'biologia/bases nitrogenadas.md': 'anki tag is missing or invalid',\n",
       " 'biologia/biomoléculas.md': 'anki tag is missing or invalid',\n",
       " 'biologia/biopolímeros.md': 'anki tag is missing or invalid',\n",
       " 'biologia/carboidratos.md': 'anki tag is missing or invalid',\n",
       " 'biologia/centrossomo.md': 'anki tag is missing or invalid',\n",
       " 'biologia/citoesqueleto.md': 'anki tag is missing or invalid',\n",
       " 'biologia/citoplasma.md': 'anki tag is missing or invalid',\n",
       " 'biologia/citosol.md': 'anki tag is missing or invalid',\n",
       " 'biologia/complexo golgiense.md': 'anki tag is missing or invalid',\n",
       " 'biologia/compostos inorgânicos.md': 'anki tag is missing or invalid',\n",
       " 'biologia/compostos orgânicos.md': 'anki tag is missing or invalid',\n",
       " 'biologia/células eucarióticas.md': 'anki tag is missing or invalid',\n",
       " 'biologia/células procarióticas.md': 'anki tag is missing or invalid',\n",
       " 'biologia/células.md': 'anki tag is missing or invalid',\n",
       " 'biologia/código genético.md': 'anki tag is missing or invalid',\n",
       " 'biologia/códons.md': 'anki tag is missing or invalid',\n",
       " 'biologia/desnaturação proteica.md': 'anki tag is missing or invalid',\n",
       " 'biologia/destilação fracionada.md': 'anki tag is missing or invalid',\n",
       " 'biologia/DNA.md': 'anki tag is missing or invalid',\n",
       " 'biologia/enzimas.md': 'anki tag is missing or invalid',\n",
       " 'biologia/estruturas das proteínas.md': 'anki tag is missing or invalid',\n",
       " 'biologia/fibras componentes do citoesqueleto.md': 'anki tag is missing or invalid',\n",
       " 'biologia/fotossíntese.md': 'anki tag is missing or invalid',\n",
       " 'biologia/Francesco Redi.md': 'anki tag is missing or invalid',\n",
       " 'biologia/heterofagia.md': 'anki tag is missing or invalid',\n",
       " 'biologia/hipótese autotrófica.md': 'anki tag is missing or invalid',\n",
       " 'biologia/hipótese heterotrófica.md': 'anki tag is missing or invalid',\n",
       " 'biologia/lipídios.md': 'anki tag is missing or invalid',\n",
       " 'biologia/lisossomo.md': 'anki tag is missing or invalid',\n",
       " 'biologia/Louis Pasteur.md': 'anki tag is missing or invalid',\n",
       " 'biologia/lúmen.md': 'anki tag is missing or invalid',\n",
       " 'biologia/macromoléculas.md': 'anki tag is missing or invalid',\n",
       " 'biologia/membrana plasmática.md': 'anki tag is missing or invalid',\n",
       " 'biologia/metabolismo.md': 'anki tag is missing or invalid',\n",
       " 'biologia/mitocôndria.md': 'anki tag is missing or invalid',\n",
       " 'biologia/neutrófilos.md': 'anki tag is missing or invalid',\n",
       " 'biologia/nutrição.md': 'anki tag is missing or invalid',\n",
       " 'biologia/núcleo.md': 'anki tag is missing or invalid',\n",
       " 'biologia/oligômero.md': 'anki tag is missing or invalid',\n",
       " 'biologia/organelas citoplasmáticas.md': 'anki tag is missing or invalid',\n",
       " 'biologia/organelas membranosas.md': 'anki tag is missing or invalid',\n",
       " 'biologia/organismo vivo.md': 'anki tag is missing or invalid',\n",
       " 'biologia/pentose.md': 'anki tag is missing or invalid',\n",
       " 'biologia/peptídeos.md': 'anki tag is missing or invalid',\n",
       " 'biologia/peroxissomo.md': 'anki tag is missing or invalid',\n",
       " 'biologia/polaridade.md': 'anki tag is missing or invalid',\n",
       " 'biologia/polímeros.md': 'anki tag is missing or invalid',\n",
       " 'biologia/proteínas.md': 'anki tag is missing or invalid',\n",
       " 'biologia/pré-processamento do RNAm.md': 'anki tag is missing or invalid',\n",
       " 'biologia/replicação.md': 'anki tag is missing or invalid',\n",
       " 'biologia/retículo endoplasmático granuloso.md': 'anki tag is missing or invalid',\n",
       " 'biologia/retículo endoplasmático não granuloso.md': 'anki tag is missing or invalid',\n",
       " 'biologia/retículo endoplasmático.md': 'anki tag is missing or invalid',\n",
       " 'biologia/ribossomos.md': 'anki tag is missing or invalid',\n",
       " 'biologia/RNA.md': 'anki tag is missing or invalid',\n",
       " 'biologia/sais minerais.md': 'anki tag is missing or invalid',\n",
       " 'biologia/secreção celular (exocitose).md': 'anki tag is missing or invalid',\n",
       " 'biologia/síntese proteica.md': 'anki tag is missing or invalid',\n",
       " 'biologia/sólido amorfo.md': 'anki tag is missing or invalid',\n",
       " 'biologia/tradução.md': 'anki tag is missing or invalid',\n",
       " 'biologia/transcrição.md': 'anki tag is missing or invalid',\n",
       " 'biologia/vacúolo central.md': 'anki tag is missing or invalid',\n",
       " 'biologia/vacúolos.md': 'anki tag is missing or invalid',\n",
       " 'biologia/vesículas.md': 'anki tag is missing or invalid',\n",
       " 'biologia/vitaminas.md': 'anki tag is missing or invalid',\n",
       " 'biologia/ácidos graxos.md': 'anki tag is missing or invalid',\n",
       " 'biologia/ácidos nucleicos.md': 'anki tag is missing or invalid',\n",
       " 'geografia/atmosfera terrestre.md': 'anki tag is missing or invalid',\n",
       " 'geografia/fissuras hidrotermais.md': 'anki tag is missing or invalid',\n",
       " 'história/século XIX.md': 'anki tag is missing or invalid',\n",
       " 'história/século XVII.md': 'anki tag is missing or invalid',\n",
       " 'história/século XVIII.md': 'anki tag is missing or invalid',\n",
       " 'Hub/Biologia.md': 'anki tag is missing or invalid',\n",
       " 'Hub/Física.md': 'anki tag is missing or invalid',\n",
       " 'Hub/Geografia.md': 'anki tag is missing or invalid',\n",
       " 'Hub/História.md': 'anki tag is missing or invalid',\n",
       " 'Hub/Português.md': 'anki tag is missing or invalid',\n",
       " 'Hub/Projeto Medicina.md': 'anki tag is missing or invalid',\n",
       " 'Hub/Química.md': 'anki tag is missing or invalid',\n",
       " 'Hub/Timeline.md': 'anki tag is missing or invalid',\n",
       " 'pessoas/Amedeo Avogadro.md': 'anki tag is missing or invalid',\n",
       " 'pessoas/Evangelista Torricelli.md': 'anki tag is missing or invalid',\n",
       " 'pessoas/Josef Loschmidt.md': 'anki tag is missing or invalid',\n",
       " 'português/semiótica.md': 'anki tag is missing or invalid',\n",
       " 'química/alotropia.md': 'anki tag is missing or invalid',\n",
       " 'química/carbono.md': 'anki tag is missing or invalid',\n",
       " 'química/condensação.md': 'anki tag is missing or invalid',\n",
       " 'química/cristalização.md': 'anki tag is missing or invalid',\n",
       " 'química/densidade.md': 'anki tag is missing or invalid',\n",
       " 'química/destilação simples.md': 'anki tag is missing or invalid',\n",
       " 'química/dupfile.md': 'anki tag is missing or invalid',\n",
       " 'química/estados físicos da matéria.md': 'anki tag is missing or invalid',\n",
       " 'química/fórmulas químicas.md': 'anki tag is missing or invalid',\n",
       " 'química/Galileu Galilei.md': 'anki tag is missing or invalid',\n",
       " 'química/gases reais e gases ideais.md': 'anki tag is missing or invalid',\n",
       " 'química/hidroxila.md': 'anki tag is missing or invalid',\n",
       " 'química/lei de Avogadro.md': 'anki tag is missing or invalid',\n",
       " 'química/ligação de hidrogênio.md': 'anki tag is missing or invalid',\n",
       " 'química/ligações covalentes.md': 'anki tag is missing or invalid',\n",
       " 'química/ligações fosfodiéster.md': 'anki tag is missing or invalid',\n",
       " 'química/ligações peptídicas.md': 'anki tag is missing or invalid',\n",
       " 'química/massa atômica.md': 'anki tag is missing or invalid',\n",
       " 'química/massa molecular.md': 'anki tag is missing or invalid',\n",
       " 'química/mol.md': 'anki tag is missing or invalid',\n",
       " 'química/moléculas.md': 'anki tag is missing or invalid',\n",
       " 'química/monômeros.md': 'anki tag is missing or invalid',\n",
       " 'química/mudanças de estado físico.md': 'anki tag is missing or invalid',\n",
       " 'química/métodos de separação de misturas.md': 'anki tag is missing or invalid',\n",
       " 'química/número de mols.md': 'anki tag is missing or invalid',\n",
       " 'química/oxigênio.md': 'anki tag is missing or invalid',\n",
       " 'química/pressão.md': 'anki tag is missing or invalid',\n",
       " 'química/Robert Hooke.md': 'anki tag is missing or invalid',\n",
       " 'química/Rudolph Virchow.md': 'anki tag is missing or invalid',\n",
       " 'química/sistemas homogêneos vs heterogêneos.md': 'anki tag is missing or invalid',\n",
       " 'química/substância pura vs mistura.md': 'anki tag is missing or invalid',\n",
       " 'química/teorema de Stevin.md': 'anki tag is missing or invalid',\n",
       " 'química/teoria cinética dos gases.md': 'anki tag is missing or invalid',\n",
       " 'química/unidade de massa atômica.md': 'anki tag is missing or invalid',\n",
       " 'química/átomo.md': 'anki tag is missing or invalid',\n",
       " 'tosort/Latim.md': 'anki tag is missing or invalid'}"
      ]
     },
     "execution_count": 18,
     "metadata": {},
     "output_type": "execute_result"
    }
   ],
   "execution_count": 18
  },
  {
   "metadata": {
    "ExecuteTime": {
     "end_time": "2024-06-29T19:58:36.243250Z",
     "start_time": "2024-06-29T19:58:36.237243Z"
    }
   },
   "cell_type": "code",
   "source": [
    "anki_files = [\n",
    "    'C:\\\\mine\\\\vaults\\\\projeto_medicina\\\\biologia\\\\Capítulo - Biologia celular.md',\n",
    "    'C:\\\\mine\\\\vaults\\\\projeto_medicina\\\\biologia\\\\Capítulo - Biologia termos.md',\n",
    "    'C:\\\\mine\\\\vaults\\\\projeto_medicina\\\\biologia\\\\Capítulo - Ácidos nucleicos.md',\n",
    "    'C:\\\\mine\\\\vaults\\\\projeto_medicina\\\\Hub\\\\Capítulo - Origem da vida.md',\n",
    "    'C:\\\\mine\\\\vaults\\\\projeto_medicina\\\\química\\\\Capítulo - Determinação de fórmulas.md',\n",
    "    'C:\\\\mine\\\\vaults\\\\projeto_medicina\\\\química\\\\Capítulo - Estados físicos.md',\n",
    "    'C:\\\\mine\\\\vaults\\\\projeto_medicina\\\\química\\\\Capítulo - Gases.md',\n",
    "    'C:\\\\mine\\\\vaults\\\\projeto_medicina\\\\química\\\\Capítulo - O átomo.md',\n",
    "    'C:\\\\mine\\\\vaults\\\\projeto_medicina\\\\química\\\\Capítulo - Teoria atômico-molecular.md',\n",
    "    'C:\\\\mine\\\\vaults\\\\projeto_medicina\\\\biologia\\\\a\\\\b\\\\c\\\\Capítulo - Biologia celular.md'\n",
    "]"
   ],
   "id": "521eb52e732ae59",
   "outputs": [],
   "execution_count": 9
  },
  {
   "metadata": {
    "ExecuteTime": {
     "end_time": "2024-06-29T20:31:14.227565Z",
     "start_time": "2024-06-29T20:31:14.221854Z"
    }
   },
   "cell_type": "code",
   "source": [
    "def _build_tree(_tree, _parent, _filepath):\n",
    "    # if len(_filepath) == 0:\n",
    "    #     return None\n",
    "    \n",
    "    if _parent not in _tree:\n",
    "        _tree[_parent] = { 'root': [] }\n",
    "        \n",
    "    if len(_filepath) == 1:\n",
    "        _tree[_parent]['root'].append(_filepath[0])\n",
    "    else:\n",
    "        _tree[_parent] = _build_tree(_tree[_parent], _filepath[0], _filepath[1:])\n",
    "    return _tree\n",
    "\n",
    "tree = { 'root': [] }\n",
    "\n",
    "for f in anki_files:\n",
    "    filepath = f.removeprefix(crawler.vault + path.sep)\n",
    "    filepath = filepath.split(path.sep)\n",
    "    \n",
    "    if len(filepath) == 1:\n",
    "        tree['root'].append(filepath[0])\n",
    "    else:\n",
    "        tree = _build_tree(tree, filepath[0], filepath[1:])\n",
    "            "
   ],
   "id": "4c20c7c867e0b79d",
   "outputs": [],
   "execution_count": 19
  },
  {
   "metadata": {
    "ExecuteTime": {
     "end_time": "2024-06-29T20:31:14.331435Z",
     "start_time": "2024-06-29T20:31:14.315755Z"
    }
   },
   "cell_type": "code",
   "source": "tree",
   "id": "5914130f05cbba8d",
   "outputs": [
    {
     "data": {
      "text/plain": [
       "{'root': [],\n",
       " 'biologia': {'root': ['Capítulo - Biologia celular.md',\n",
       "   'Capítulo - Biologia termos.md',\n",
       "   'Capítulo - Ácidos nucleicos.md'],\n",
       "  'a': {'root': [],\n",
       "   'b': {'root': [], 'c': {'root': ['Capítulo - Biologia celular.md']}}}},\n",
       " 'Hub': {'root': ['Capítulo - Origem da vida.md']},\n",
       " 'química': {'root': ['Capítulo - Determinação de fórmulas.md',\n",
       "   'Capítulo - Estados físicos.md',\n",
       "   'Capítulo - Gases.md',\n",
       "   'Capítulo - O átomo.md',\n",
       "   'Capítulo - Teoria atômico-molecular.md']}}"
      ]
     },
     "execution_count": 20,
     "metadata": {},
     "output_type": "execute_result"
    }
   ],
   "execution_count": 20
  },
  {
   "metadata": {
    "ExecuteTime": {
     "end_time": "2024-06-29T20:44:09.188688Z",
     "start_time": "2024-06-29T20:44:09.178921Z"
    }
   },
   "cell_type": "code",
   "source": "x = 'Hub'",
   "id": "da0b9cdc42578789",
   "outputs": [],
   "execution_count": 21
  },
  {
   "metadata": {
    "ExecuteTime": {
     "end_time": "2024-06-30T21:05:21.440420Z",
     "start_time": "2024-06-30T21:05:21.438361Z"
    }
   },
   "cell_type": "code",
   "source": "x = set()",
   "id": "a7bfd85640e34c83",
   "outputs": [],
   "execution_count": 3
  },
  {
   "metadata": {
    "ExecuteTime": {
     "end_time": "2024-06-30T21:05:22.250390Z",
     "start_time": "2024-06-30T21:05:22.247114Z"
    }
   },
   "cell_type": "code",
   "source": "x.add('abc')",
   "id": "5b89005e8bd4d809",
   "outputs": [],
   "execution_count": 4
  },
  {
   "metadata": {
    "ExecuteTime": {
     "end_time": "2024-06-30T21:05:28.060382Z",
     "start_time": "2024-06-30T21:05:28.057245Z"
    }
   },
   "cell_type": "code",
   "source": "x.add('abc')",
   "id": "d1a4b4f1fb66f78e",
   "outputs": [],
   "execution_count": 5
  },
  {
   "metadata": {
    "ExecuteTime": {
     "end_time": "2024-06-30T21:05:30.900360Z",
     "start_time": "2024-06-30T21:05:30.897434Z"
    }
   },
   "cell_type": "code",
   "source": "x.add('abc')",
   "id": "4b93918bffd4d7a9",
   "outputs": [],
   "execution_count": 6
  },
  {
   "metadata": {
    "ExecuteTime": {
     "end_time": "2024-06-30T21:05:33.227591Z",
     "start_time": "2024-06-30T21:05:33.223016Z"
    }
   },
   "cell_type": "code",
   "source": "x",
   "id": "596a9178b3c41529",
   "outputs": [
    {
     "data": {
      "text/plain": [
       "{'abc'}"
      ]
     },
     "execution_count": 7,
     "metadata": {},
     "output_type": "execute_result"
    }
   ],
   "execution_count": 7
  },
  {
   "metadata": {
    "ExecuteTime": {
     "end_time": "2024-06-30T21:20:09.938660Z",
     "start_time": "2024-06-30T21:20:09.935661Z"
    }
   },
   "cell_type": "code",
   "source": "x.add('aaa')",
   "id": "425916b08c892eee",
   "outputs": [],
   "execution_count": 8
  },
  {
   "metadata": {
    "ExecuteTime": {
     "end_time": "2024-06-30T21:20:11.086244Z",
     "start_time": "2024-06-30T21:20:11.083358Z"
    }
   },
   "cell_type": "code",
   "source": "x",
   "id": "d59fc2aade17c019",
   "outputs": [
    {
     "data": {
      "text/plain": [
       "{'aaa', 'abc'}"
      ]
     },
     "execution_count": 9,
     "metadata": {},
     "output_type": "execute_result"
    }
   ],
   "execution_count": 9
  },
  {
   "metadata": {
    "ExecuteTime": {
     "end_time": "2024-06-30T21:20:16.570775Z",
     "start_time": "2024-06-30T21:20:16.568772Z"
    }
   },
   "cell_type": "code",
   "source": "x.add('zzz')",
   "id": "ef214ccc907f440a",
   "outputs": [],
   "execution_count": 10
  },
  {
   "metadata": {
    "ExecuteTime": {
     "end_time": "2024-06-30T21:20:17.615180Z",
     "start_time": "2024-06-30T21:20:17.611929Z"
    }
   },
   "cell_type": "code",
   "source": "x",
   "id": "caf860a5355342e2",
   "outputs": [
    {
     "data": {
      "text/plain": [
       "{'aaa', 'abc', 'zzz'}"
      ]
     },
     "execution_count": 11,
     "metadata": {},
     "output_type": "execute_result"
    }
   ],
   "execution_count": 11
  },
  {
   "metadata": {
    "ExecuteTime": {
     "end_time": "2024-07-01T13:11:34.236664Z",
     "start_time": "2024-07-01T13:11:34.218773Z"
    }
   },
   "cell_type": "code",
   "source": [
    "from os import urandom\n",
    "\n",
    "class Test:\n",
    "    def __init__(self):\n",
    "        tree = {}\n",
    "        for i in range(10):\n",
    "            tree[i] = urandom(16)\n",
    "        self.tree = tree\n",
    "            \n",
    "    def __getitem__(self, key):\n",
    "        return self.tree[key]"
   ],
   "id": "a787b9254c2955a2",
   "outputs": [],
   "execution_count": 20
  },
  {
   "metadata": {
    "ExecuteTime": {
     "end_time": "2024-07-01T13:11:35.161640Z",
     "start_time": "2024-07-01T13:11:35.148510Z"
    }
   },
   "cell_type": "code",
   "source": [
    "x = Test()\n",
    "x"
   ],
   "id": "b77f65186b10c1a",
   "outputs": [
    {
     "data": {
      "text/plain": [
       "<__main__.Test at 0x1ece58cfc50>"
      ]
     },
     "execution_count": 21,
     "metadata": {},
     "output_type": "execute_result"
    }
   ],
   "execution_count": 21
  },
  {
   "metadata": {
    "ExecuteTime": {
     "end_time": "2024-07-01T13:11:43.928828Z",
     "start_time": "2024-07-01T13:11:43.922607Z"
    }
   },
   "cell_type": "code",
   "source": "x[1]",
   "id": "e8c21eec415130b2",
   "outputs": [
    {
     "data": {
      "text/plain": [
       "b\"\\xfe\\xc7\\x94\\x13\\xa03\\x82\\x82\\x8b\\x04\\xf4IVid'\""
      ]
     },
     "execution_count": 24,
     "metadata": {},
     "output_type": "execute_result"
    }
   ],
   "execution_count": 24
  },
  {
   "metadata": {
    "ExecuteTime": {
     "end_time": "2024-07-01T13:05:09.793173Z",
     "start_time": "2024-07-01T13:05:09.582334Z"
    }
   },
   "cell_type": "code",
   "source": "x[0]",
   "id": "2d1379a9f0e920f2",
   "outputs": [
    {
     "ename": "AttributeError",
     "evalue": "'Foo' object has no attribute 'tree'",
     "output_type": "error",
     "traceback": [
      "\u001B[1;31m---------------------------------------------------------------------------\u001B[0m",
      "\u001B[1;31mAttributeError\u001B[0m                            Traceback (most recent call last)",
      "Cell \u001B[1;32mIn[3], line 1\u001B[0m\n\u001B[1;32m----> 1\u001B[0m \u001B[43mx\u001B[49m\u001B[43m[\u001B[49m\u001B[38;5;241;43m0\u001B[39;49m\u001B[43m]\u001B[49m\n",
      "Cell \u001B[1;32mIn[1], line 10\u001B[0m, in \u001B[0;36mFoo.__getitem__\u001B[1;34m(self, key)\u001B[0m\n\u001B[0;32m      9\u001B[0m \u001B[38;5;28;01mdef\u001B[39;00m \u001B[38;5;21m__getitem__\u001B[39m(\u001B[38;5;28mself\u001B[39m, key):\n\u001B[1;32m---> 10\u001B[0m     \u001B[38;5;28;01mreturn\u001B[39;00m \u001B[38;5;28;43mself\u001B[39;49m\u001B[38;5;241;43m.\u001B[39;49m\u001B[43mtree\u001B[49m[key]\n",
      "\u001B[1;31mAttributeError\u001B[0m: 'Foo' object has no attribute 'tree'"
     ]
    }
   ],
   "execution_count": 3
  },
  {
   "metadata": {
    "ExecuteTime": {
     "end_time": "2024-07-01T14:18:46.946456Z",
     "start_time": "2024-07-01T14:18:46.940479Z"
    }
   },
   "cell_type": "code",
   "source": "from xml.etree import ElementTree as ET",
   "id": "ad2456776fc9193f",
   "outputs": [],
   "execution_count": 25
  },
  {
   "metadata": {
    "ExecuteTime": {
     "end_time": "2024-07-01T14:22:31.931087Z",
     "start_time": "2024-07-01T14:22:31.927447Z"
    }
   },
   "cell_type": "code",
   "source": [
    "html = ET.Element('html', attrib={'lang': 'en'})\n",
    "head = ET.SubElement(html, 'head')\n",
    "ET.SubElement(head, 'meta', attrib={'charset': 'UTF-8'})\n",
    "ET.SubElement(head, 'title', text='Note Preview')\n",
    "ET.SubElement(html, 'body')"
   ],
   "id": "66f1a59823d3aa0d",
   "outputs": [
    {
     "data": {
      "text/plain": [
       "<Element 'meta' at 0x000001ECE5F904F0>"
      ]
     },
     "execution_count": 34,
     "metadata": {},
     "output_type": "execute_result"
    }
   ],
   "execution_count": 34
  },
  {
   "metadata": {
    "ExecuteTime": {
     "end_time": "2024-07-01T14:22:32.264911Z",
     "start_time": "2024-07-01T14:22:32.262358Z"
    }
   },
   "cell_type": "code",
   "source": "ET.dump(html)",
   "id": "3e08c72ecf8aefa6",
   "outputs": [
    {
     "name": "stdout",
     "output_type": "stream",
     "text": [
      "<html lang=\"en\"><head><meta charset=\"UTF-8\" /></head></html>\n"
     ]
    }
   ],
   "execution_count": 35
  },
  {
   "metadata": {
    "ExecuteTime": {
     "end_time": "2024-07-01T14:24:34.625856Z",
     "start_time": "2024-07-01T14:24:34.622761Z"
    }
   },
   "cell_type": "code",
   "source": "ET.indent(html)",
   "id": "9318bfbcbdf057f5",
   "outputs": [],
   "execution_count": 43
  },
  {
   "metadata": {},
   "cell_type": "code",
   "outputs": [],
   "execution_count": null,
   "source": "",
   "id": "387187e80d127a24"
  }
 ],
 "metadata": {
  "kernelspec": {
   "display_name": "Python 3",
   "language": "python",
   "name": "python3"
  },
  "language_info": {
   "codemirror_mode": {
    "name": "ipython",
    "version": 2
   },
   "file_extension": ".py",
   "mimetype": "text/x-python",
   "name": "python",
   "nbconvert_exporter": "python",
   "pygments_lexer": "ipython2",
   "version": "2.7.6"
  }
 },
 "nbformat": 4,
 "nbformat_minor": 5
}
