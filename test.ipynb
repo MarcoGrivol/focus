﻿{
 "cells": [
  {
   "cell_type": "code",
   "id": "initial_id",
   "metadata": {
    "collapsed": true,
    "ExecuteTime": {
     "end_time": "2024-06-04T00:44:18.109503Z",
     "start_time": "2024-06-04T00:44:18.104412Z"
    }
   },
   "source": [
    "import re\n",
    "import os\n",
    "\n",
    "from difflib import SequenceMatcher\n",
    "from os import path\n",
    "\n",
    "def find_heading(_data: str, _heading: str, _exit_on_first=False) -> str:\n",
    "    \"\"\"\n",
    "    Find all the text encapsulating a _heading, not the _heading itself.\n",
    "    :param _data: file contents.\n",
    "    :param _heading: the name of the _heading, excluding the '#' and any leading or trailing whitespace.\n",
    "    :param _exit_on_first: if True, stops after finding the next _heading.\n",
    "    \"\"\"\n",
    "    _heads = RE_HEADING.split(_data)\n",
    "\n",
    "    target_heading = 0\n",
    "    _text = ''\n",
    "\n",
    "    for _i, _s in enumerate(_heads):\n",
    "        if _s == '#' * len(_s):  # only hashtags\n",
    "            if _heads[_i + 1] == _heading:\n",
    "                target_heading = len(_s)\n",
    "            elif target_heading != 0:  # already found the target _heading\n",
    "                if _exit_on_first:\n",
    "                    break\n",
    "                elif len(_s) <= target_heading:  # found a higher level _heading, stop\n",
    "                    break\n",
    "            continue\n",
    "\n",
    "        if target_heading == 0:\n",
    "            continue  # _heads before _heading\n",
    "\n",
    "        _text += _s\n",
    "    # do not strip new lines! they may be used for parsing later (eg: \\n    1. valid question)\n",
    "    return _text.removeprefix(_heading).strip('---')"
   ],
   "outputs": [],
   "execution_count": 24
  },
  {
   "metadata": {
    "ExecuteTime": {
     "end_time": "2024-06-04T00:44:18.496844Z",
     "start_time": "2024-06-04T00:44:18.492591Z"
    }
   },
   "cell_type": "code",
   "source": [
    "DB = 'C:\\\\mine\\\\Journey'\n",
    "\n",
    "with open(path.join(DB, 'Biologia celular.md'), 'r', encoding='utf-8') as f:\n",
    "    data = f.read()"
   ],
   "id": "b1f5deb31298bb5d",
   "outputs": [],
   "execution_count": 25
  },
  {
   "metadata": {
    "ExecuteTime": {
     "end_time": "2024-06-04T01:30:05.737519Z",
     "start_time": "2024-06-04T01:30:05.727628Z"
    }
   },
   "cell_type": "code",
   "source": [
    "def re_heading(heading):\n",
    "    # r'(#+?) +(.+?) *\\n'\n",
    "    return re.compile(r'(#+?) +' + heading + r' *\\n')"
   ],
   "id": "99a9b29cdca88f35",
   "outputs": [],
   "execution_count": 32
  },
  {
   "metadata": {
    "ExecuteTime": {
     "end_time": "2024-06-04T01:31:25.986711Z",
     "start_time": "2024-06-04T01:31:25.981522Z"
    }
   },
   "cell_type": "code",
   "source": "re_heading('abcdefghijk').split(data)",
   "id": "c1e517bdb9718722",
   "outputs": [
    {
     "data": {
      "text/plain": [
       "['#hub/bio/celula\\n#anki/biologia/biologia_celular\\n\\n\\nLivro 1, Frente 1, Capítulo 5\\n\\n#      Anki Questions    \\n---\\n2. O que é [[teoria celular]]?\\n3. Quais organelas são compartilhadas entre as [[células eucarióticas]] e [[células procarióticas]]? [[Biologia celular#organelas compartilhadas|ans]]\\n4. O que é [[teoria endossimbiôntica]]?\\n5. Descreva a função e onde encontra-se o [[citoplasma]].\\n6. This has multiple [[ribossomos]] links [[peroxissomo]] \\n\\n## inside heading\\ntext inside 1. what about middle text?\\n\\n1. are we reading this?\\naa\\n\\naa\\na\\na\\na\\na\\na\\na\\nsdfkaslkdjf;laks\\n\\na\\n\\n#                Answers     \\n---\\n### organelas              compartilhadas    \\nCitoplasma, ribossomos, membrana plasmática e DNA \\nlorem ipum\\n\\n\\nsadfkjasldf \\naslfkjasldfk\\ndlafjsad;lf\\n\\n# LAST\\n']"
      ]
     },
     "execution_count": 36,
     "metadata": {},
     "output_type": "execute_result"
    }
   ],
   "execution_count": 36
  },
  {
   "metadata": {
    "ExecuteTime": {
     "end_time": "2024-06-04T01:33:24.381408Z",
     "start_time": "2024-06-04T01:33:24.375929Z"
    }
   },
   "cell_type": "code",
   "source": "re_heading('test').split('# test\\n')",
   "id": "d922180c07fc55a6",
   "outputs": [
    {
     "data": {
      "text/plain": [
       "['', '#', '']"
      ]
     },
     "execution_count": 44,
     "metadata": {},
     "output_type": "execute_result"
    }
   ],
   "execution_count": 44
  },
  {
   "metadata": {
    "ExecuteTime": {
     "end_time": "2024-06-04T00:47:32.638669Z",
     "start_time": "2024-06-04T00:47:32.635481Z"
    }
   },
   "cell_type": "code",
   "source": [
    "text = find_heading(data, QUESTIONS_HEADING)\n",
    "cards = RE_CARD_BODY.findall(text)\n",
    "\n",
    "card_front, card_back = list(), list()\n",
    "\n",
    "for c in cards:\n",
    "    for i, (q, ans) in enumerate(RE_CARD_ENTRY.findall(c)):\n",
    "        print(i, q)\n",
    "        print('\\t >', ans)\n",
    "        if ans:\n",
    "            "
   ],
   "id": "40b81dd0d97e6727",
   "outputs": [
    {
     "name": "stdout",
     "output_type": "stream",
     "text": [
      "0 O que é [[teoria celular]]?\n",
      "\t > \n",
      "0 Quais organelas são compartilhadas entre as [[células eucarióticas]] e [[células procarióticas]]?\n",
      "\t > Biologia celular#organelas compartilhadas|ans\n",
      "0 O que é [[teoria endossimbiôntica]]?\n",
      "\t > \n",
      "0 Descreva a função e onde encontra-se o [[citoplasma]].\n",
      "\t > \n",
      "0 are we reading this?\n",
      "\t > \n"
     ]
    }
   ],
   "execution_count": 31
  },
  {
   "metadata": {
    "ExecuteTime": {
     "end_time": "2024-06-04T00:24:52.849347Z",
     "start_time": "2024-06-04T00:24:52.847342Z"
    }
   },
   "cell_type": "code",
   "source": "text = find_heading(data, QUESTIONS_HEADING)",
   "id": "596f0bfe06b1b5e0",
   "outputs": [],
   "execution_count": 104
  },
  {
   "metadata": {
    "ExecuteTime": {
     "end_time": "2024-06-03T19:30:49.138842Z",
     "start_time": "2024-06-03T19:30:49.134475Z"
    }
   },
   "cell_type": "code",
   "source": [
    "questions = RE_QUESTIONS_BODY.findall(text)\n",
    "questions"
   ],
   "id": "a6aa0d172b0225e8",
   "outputs": [
    {
     "data": {
      "text/plain": [
       "['O que é [[teoria celular]]?',\n",
       " 'Quais organelas são compartilhadas entre as [[células eucarióticas]] e [[células procarióticas]]? [[Biologia celular#organelas compartilhadas|ans]]',\n",
       " 'O que é [[teoria endossimbiôntica]]?']"
      ]
     },
     "execution_count": 86,
     "metadata": {},
     "output_type": "execute_result"
    }
   ],
   "execution_count": 86
  },
  {
   "metadata": {
    "ExecuteTime": {
     "end_time": "2024-06-03T19:30:49.463374Z",
     "start_time": "2024-06-03T19:30:49.459117Z"
    }
   },
   "cell_type": "code",
   "source": [
    "for i, q in enumerate(questions):\n",
    "    for link in RE_LINKS.findall(q):\n",
    "        if link.endswith('|ans'):\n",
    "            questions[i] = q.replace('[['+link+r']]', '').strip()\n",
    "questions"
   ],
   "id": "d8b16636f63a10f1",
   "outputs": [
    {
     "data": {
      "text/plain": [
       "['O que é [[teoria celular]]?',\n",
       " 'Quais organelas são compartilhadas entre as [[células eucarióticas]] e [[células procarióticas]]?',\n",
       " 'O que é [[teoria endossimbiôntica]]?']"
      ]
     },
     "execution_count": 87,
     "metadata": {},
     "output_type": "execute_result"
    }
   ],
   "execution_count": 87
  },
  {
   "metadata": {},
   "cell_type": "code",
   "outputs": [],
   "execution_count": null,
   "source": "",
   "id": "b0edc26fefb93e"
  },
  {
   "metadata": {},
   "cell_type": "code",
   "outputs": [],
   "execution_count": null,
   "source": "",
   "id": "167071a7d78bb8fa"
  },
  {
   "metadata": {},
   "cell_type": "code",
   "outputs": [],
   "execution_count": null,
   "source": "",
   "id": "c653bd63a475518c"
  },
  {
   "metadata": {},
   "cell_type": "code",
   "outputs": [],
   "execution_count": null,
   "source": "",
   "id": "21532fe83627fbd4"
  },
  {
   "metadata": {},
   "cell_type": "code",
   "outputs": [],
   "execution_count": null,
   "source": "",
   "id": "29a2fa16b7894a73"
  },
  {
   "metadata": {},
   "cell_type": "code",
   "outputs": [],
   "execution_count": null,
   "source": "",
   "id": "bef1b9764c901e13"
  },
  {
   "metadata": {
    "ExecuteTime": {
     "end_time": "2024-05-31T21:37:34.020664Z",
     "start_time": "2024-05-31T21:37:34.018152Z"
    }
   },
   "cell_type": "code",
   "source": [
    "my_model = genanki.Model(\n",
    "  1607392319,\n",
    "  'Simple Model',\n",
    "  fields=[\n",
    "    {'name': 'Question'},\n",
    "    {'name': 'Answer'},\n",
    "  ],\n",
    "  templates=[\n",
    "    {\n",
    "      'name': 'Card 1',\n",
    "      'qfmt': '{{Question}}',\n",
    "      'afmt': '{{FrontSide}}<hr id=\"answer\">{{Answer}}',\n",
    "    },\n",
    "  ])"
   ],
   "id": "5b716adc424653c7",
   "outputs": [],
   "execution_count": 37
  },
  {
   "metadata": {
    "ExecuteTime": {
     "end_time": "2024-05-31T21:38:20.570051Z",
     "start_time": "2024-05-31T21:38:20.567657Z"
    }
   },
   "cell_type": "code",
   "source": [
    "my_note = genanki.Note(\n",
    "    model=my_model,\n",
    "    fields=['Testing question', 'Correct answer']\n",
    ")"
   ],
   "id": "122675c109d8f801",
   "outputs": [],
   "execution_count": 39
  },
  {
   "metadata": {
    "ExecuteTime": {
     "end_time": "2024-05-31T21:39:48.648185Z",
     "start_time": "2024-05-31T21:39:48.645875Z"
    }
   },
   "cell_type": "code",
   "source": [
    "bio_deck = genanki.Deck(2059400110, 'Biologia')\n",
    "bio_deck.add_note(my_note)"
   ],
   "id": "2a83475d9c10a0e6",
   "outputs": [],
   "execution_count": 40
  },
  {
   "metadata": {
    "ExecuteTime": {
     "end_time": "2024-05-31T21:40:56.351075Z",
     "start_time": "2024-05-31T21:40:56.251431Z"
    }
   },
   "cell_type": "code",
   "source": "genanki.Package(bio_deck).write_to_file(path.join('C:\\\\mine\\\\cs\\\\jupyter.apkg'))",
   "id": "e269de5185b4cd5c",
   "outputs": [],
   "execution_count": 41
  },
  {
   "metadata": {},
   "cell_type": "code",
   "outputs": [],
   "execution_count": null,
   "source": "",
   "id": "d2021a8364fe426b"
  }
 ],
 "metadata": {
  "kernelspec": {
   "display_name": "Python 3",
   "language": "python",
   "name": "python3"
  },
  "language_info": {
   "codemirror_mode": {
    "name": "ipython",
    "version": 2
   },
   "file_extension": ".py",
   "mimetype": "text/x-python",
   "name": "python",
   "nbconvert_exporter": "python",
   "pygments_lexer": "ipython2",
   "version": "2.7.6"
  }
 },
 "nbformat": 4,
 "nbformat_minor": 5
}
